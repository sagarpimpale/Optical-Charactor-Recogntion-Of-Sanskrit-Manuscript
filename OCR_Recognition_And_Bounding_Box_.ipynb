{
 "cells": [
  {
   "cell_type": "code",
   "execution_count": 2,
   "id": "dd15db1b",
   "metadata": {},
   "outputs": [],
   "source": [
    "import pdf2image\n",
    "from pdf2image import convert_from_path\n",
    "import cv2\n",
    "import numpy as np"
   ]
  },
  {
   "cell_type": "code",
   "execution_count": null,
   "id": "14ca95a2",
   "metadata": {},
   "outputs": [],
   "source": [
    "images=convert_from_path(\"D:\\sagar\\Sanskrit_Text.pdf\",500,poppler_path=r'C:\\Program Files\\poppler-23.01.0\\Library\\bin')\n",
    "for i in range(len(images)):\n",
    "    images[i].save('pages'+str(i)+'.jpg','JPEG')"
   ]
  },
  {
   "cell_type": "code",
   "execution_count": 22,
   "id": "fccb3d5e",
   "metadata": {},
   "outputs": [
    {
     "data": {
      "text/plain": [
       "-1"
      ]
     },
     "execution_count": 22,
     "metadata": {},
     "output_type": "execute_result"
    }
   ],
   "source": [
    "import json\n",
    "# Load the image\n",
    "img = cv2.imread(\"D:\\sagar\\pages0.jpg\")\n",
    "\n",
    "# Convert the image to grayscale\n",
    "gray = cv2.cvtColor(img, cv2.COLOR_BGR2GRAY)\n",
    "\n",
    "# Apply thresholding to convert the image to a binary format\n",
    "thresh = cv2.threshold(gray, 0, 255, cv2.THRESH_BINARY_INV + cv2.THRESH_OTSU)[1]\n",
    "\n",
    "# Apply morphological transformations to remove noise and connect the text\n",
    "kernel = np.ones((5,5),np.uint8)\n",
    "opening = cv2.morphologyEx(thresh, cv2.MORPH_OPEN, kernel, iterations=1)\n",
    "\n",
    "# Find the contours of the text\n",
    "contours, hierarchy = cv2.findContours(opening, cv2.RETR_EXTERNAL, cv2.CHAIN_APPROX_SIMPLE)\n",
    "\n",
    "# Define a function to get the bounding box coordinates for each contour\n",
    "def get_bounding_box(contour):\n",
    "    x, y, w, h = cv2.boundingRect(contour)\n",
    "    return x, y, w, h\n",
    "\n",
    "# Sort the contours from top to bottom\n",
    "contours = sorted(contours, key=lambda x: cv2.boundingRect(x)[1])\n",
    "\n",
    "# Define a list to store the bounding box coordinates for each line\n",
    "line_coords_list = []\n",
    "\n",
    "# Loop through each contour and group them by lines\n",
    "for contour in contours:\n",
    "    x1, y1, w, h = get_bounding_box(contour)\n",
    "    x2 = x1 + w\n",
    "    y2 = y1 + h\n",
    "    # Check if the current contour is on the same line as the previous one\n",
    "    if line_coords_list and y1 <= line_coords_list[-1][3]:\n",
    "        # Update the bounding box coordinates for the current line\n",
    "        line_coords_list[-1] = (min(line_coords_list[-1][0], x1), min(line_coords_list[-1][1], y1), max(line_coords_list[-1][2], x2), max(line_coords_list[-1][3], y2))\n",
    "    else:\n",
    "        # Create a new bounding box for the current line\n",
    "        line_coords_list.append((x1, y1, x2, y2))\n",
    "\n",
    "# Create a dictionary to store the line information\n",
    "line_dict = {}\n",
    "\n",
    "# Create a new image for each line with its bounding box\n",
    "for i, line_coords in enumerate(line_coords_list):\n",
    "    x1_line, y1_line, x2_line, y2_line = line_coords\n",
    "    # Draw a rectangle around the current line\n",
    "    cv2.rectangle(img, (x1_line, y1_line), (x2_line, y2_line), (0, 255, 0), 2)\n",
    "    # Extract the current line image\n",
    "    line_img = img[y1_line:y2_line, x1_line:x2_line]\n",
    "    # Save the line image\n",
    "    cv2.imwrite(f\"line_{i+1}.jpg\", line_img)\n",
    "    # Add the bounding box coordinates to the line dictionary\n",
    "    line_dict[f\"line_{i+1}\"] = {\n",
    "        \"x1\": x1_line,\n",
    "        \"y1\": y1_line,\n",
    "        \"x2\": x2_line,\n",
    "        \"y2\": y2_line\n",
    "    }\n",
    "\n",
    "# Save the line information as a JSON file\n",
    "with open(\"line_info.json\", \"w\") as f:\n",
    "    json.dump(line_dict, f)\n",
    "\n",
    "# Show the original image with the bounding boxes\n",
    "cv2.imshow(\"D:\\sagar\\line_info.json\", img)\n",
    "cv2.waitKey(0)"
   ]
  }
 ],
 "metadata": {
  "kernelspec": {
   "display_name": "Python 3 (ipykernel)",
   "language": "python",
   "name": "python3"
  },
  "language_info": {
   "codemirror_mode": {
    "name": "ipython",
    "version": 3
   },
   "file_extension": ".py",
   "mimetype": "text/x-python",
   "name": "python",
   "nbconvert_exporter": "python",
   "pygments_lexer": "ipython3",
   "version": "3.9.13"
  }
 },
 "nbformat": 4,
 "nbformat_minor": 5
}
